{
 "cells": [
  {
   "cell_type": "markdown",
   "id": "amazing-drive",
   "metadata": {},
   "source": [
    "## CAUSE OF FIRE CLASSIFIER\n",
    "\n",
    "Classifying causes of fires based on size, location and day of the year. \n",
    "\n",
    "Main focus of classification is to maximize recall, as we want to find as much of suspicious fires, where human intervention or negligence was the cause of fire, and it should be investigated.\n",
    "\n",
    "Choosing relevant features, feature engineering and searching for the best clasiifier"
   ]
  },
  {
   "cell_type": "code",
   "execution_count": 28,
   "id": "breeding-watson",
   "metadata": {},
   "outputs": [],
   "source": [
    "import pandas as pd\n",
    "import numpy as np\n",
    "import sqlite3\n",
    "import os\n",
    "from datetime import date, timedelta\n",
    "import datetime\n",
    "import shapefile as shp\n",
    "import matplotlib.pyplot as plt\n",
    "import seaborn as sns\n",
    "\n",
    "import scipy.stats as ss\n",
    "# preprocessing, model selections, metrics\n",
    "from sklearn.pipeline import make_pipeline, Pipeline\n",
    "from sklearn.model_selection import GridSearchCV, train_test_split, cross_val_score,RandomizedSearchCV\n",
    "from sklearn.preprocessing import MinMaxScaler, MaxAbsScaler, StandardScaler\n",
    "from sklearn.metrics import accuracy_score,f1_score, multilabel_confusion_matrix\n",
    "\n",
    "# classificators\n",
    "from sklearn.linear_model import LogisticRegression\n",
    "from sklearn.tree import DecisionTreeClassifier\n",
    "from sklearn.naive_bayes import MultinomialNB\n",
    "from sklearn.svm import SVC\n",
    "from sklearn.tree import DecisionTreeClassifier\n",
    "from sklearn.ensemble import RandomForestClassifier\n",
    "from xgboost.sklearn import XGBClassifier\n",
    "\n",
    "from sklearn.linear_model import LinearRegression\n",
    "\n",
    "from scripts import find_best_model"
   ]
  },
  {
   "cell_type": "code",
   "execution_count": 2,
   "id": "polyphonic-reconstruction",
   "metadata": {},
   "outputs": [],
   "source": [
    "# database connection\n",
    "con = sqlite3.connect(\"FPA_FOD_20170508.sqlite\")"
   ]
  },
  {
   "cell_type": "code",
   "execution_count": 3,
   "id": "bronze-track",
   "metadata": {
    "scrolled": false
   },
   "outputs": [
    {
     "data": {
      "text/html": [
       "<div>\n",
       "<style scoped>\n",
       "    .dataframe tbody tr th:only-of-type {\n",
       "        vertical-align: middle;\n",
       "    }\n",
       "\n",
       "    .dataframe tbody tr th {\n",
       "        vertical-align: top;\n",
       "    }\n",
       "\n",
       "    .dataframe thead th {\n",
       "        text-align: right;\n",
       "    }\n",
       "</style>\n",
       "<table border=\"1\" class=\"dataframe\">\n",
       "  <thead>\n",
       "    <tr style=\"text-align: right;\">\n",
       "      <th></th>\n",
       "      <th>OBJECTID</th>\n",
       "      <th>FOD_ID</th>\n",
       "      <th>FPA_ID</th>\n",
       "      <th>SOURCE_SYSTEM_TYPE</th>\n",
       "      <th>SOURCE_SYSTEM</th>\n",
       "      <th>NWCG_REPORTING_AGENCY</th>\n",
       "      <th>NWCG_REPORTING_UNIT_ID</th>\n",
       "      <th>NWCG_REPORTING_UNIT_NAME</th>\n",
       "      <th>SOURCE_REPORTING_UNIT</th>\n",
       "      <th>SOURCE_REPORTING_UNIT_NAME</th>\n",
       "      <th>...</th>\n",
       "      <th>FIRE_SIZE_CLASS</th>\n",
       "      <th>LATITUDE</th>\n",
       "      <th>LONGITUDE</th>\n",
       "      <th>OWNER_CODE</th>\n",
       "      <th>OWNER_DESCR</th>\n",
       "      <th>STATE</th>\n",
       "      <th>COUNTY</th>\n",
       "      <th>FIPS_CODE</th>\n",
       "      <th>FIPS_NAME</th>\n",
       "      <th>Shape</th>\n",
       "    </tr>\n",
       "  </thead>\n",
       "  <tbody>\n",
       "    <tr>\n",
       "      <th>0</th>\n",
       "      <td>1721941</td>\n",
       "      <td>300000001</td>\n",
       "      <td>FS-1524899</td>\n",
       "      <td>FED</td>\n",
       "      <td>FS-FIRESTAT</td>\n",
       "      <td>FS</td>\n",
       "      <td>USIDNCF</td>\n",
       "      <td>Nez Perce - Clearwater National Forests</td>\n",
       "      <td>0117</td>\n",
       "      <td>Nezperce National Forest</td>\n",
       "      <td>...</td>\n",
       "      <td>A</td>\n",
       "      <td>45.340833</td>\n",
       "      <td>-116.466667</td>\n",
       "      <td>5.0</td>\n",
       "      <td>USFS</td>\n",
       "      <td>ID</td>\n",
       "      <td>Idaho</td>\n",
       "      <td>049</td>\n",
       "      <td>Idaho</td>\n",
       "      <td>b'\\x00\\x01\\xad\\x10\\x00\\x00\\x1cr\\xe1\\xdd\\xdd\\x1...</td>\n",
       "    </tr>\n",
       "    <tr>\n",
       "      <th>1</th>\n",
       "      <td>1721942</td>\n",
       "      <td>300000002</td>\n",
       "      <td>FS-1524894</td>\n",
       "      <td>FED</td>\n",
       "      <td>FS-FIRESTAT</td>\n",
       "      <td>FS</td>\n",
       "      <td>USIDNCF</td>\n",
       "      <td>Nez Perce - Clearwater National Forests</td>\n",
       "      <td>0117</td>\n",
       "      <td>Nezperce National Forest</td>\n",
       "      <td>...</td>\n",
       "      <td>A</td>\n",
       "      <td>45.505278</td>\n",
       "      <td>-116.425556</td>\n",
       "      <td>5.0</td>\n",
       "      <td>USFS</td>\n",
       "      <td>ID</td>\n",
       "      <td>Idaho</td>\n",
       "      <td>049</td>\n",
       "      <td>Idaho</td>\n",
       "      <td>b'\\x00\\x01\\xad\\x10\\x00\\x00,5cM&lt;\\x1b]\\xc0p?:\\xf...</td>\n",
       "    </tr>\n",
       "    <tr>\n",
       "      <th>2</th>\n",
       "      <td>1721943</td>\n",
       "      <td>300000003</td>\n",
       "      <td>FS-1524891</td>\n",
       "      <td>FED</td>\n",
       "      <td>FS-FIRESTAT</td>\n",
       "      <td>FS</td>\n",
       "      <td>USIDNCF</td>\n",
       "      <td>Nez Perce - Clearwater National Forests</td>\n",
       "      <td>0117</td>\n",
       "      <td>Nezperce National Forest</td>\n",
       "      <td>...</td>\n",
       "      <td>A</td>\n",
       "      <td>45.908056</td>\n",
       "      <td>-115.767778</td>\n",
       "      <td>5.0</td>\n",
       "      <td>USFS</td>\n",
       "      <td>ID</td>\n",
       "      <td>Idaho</td>\n",
       "      <td>049</td>\n",
       "      <td>Idaho</td>\n",
       "      <td>b'\\x00\\x01\\xad\\x10\\x00\\x00\\x80\\xeciE#\\xf1\\\\\\xc...</td>\n",
       "    </tr>\n",
       "    <tr>\n",
       "      <th>3</th>\n",
       "      <td>1721944</td>\n",
       "      <td>300000004</td>\n",
       "      <td>FS-1524900</td>\n",
       "      <td>FED</td>\n",
       "      <td>FS-FIRESTAT</td>\n",
       "      <td>FS</td>\n",
       "      <td>USIDNCF</td>\n",
       "      <td>Nez Perce - Clearwater National Forests</td>\n",
       "      <td>0117</td>\n",
       "      <td>Nezperce National Forest</td>\n",
       "      <td>...</td>\n",
       "      <td>A</td>\n",
       "      <td>45.840000</td>\n",
       "      <td>-115.966389</td>\n",
       "      <td>5.0</td>\n",
       "      <td>USFS</td>\n",
       "      <td>ID</td>\n",
       "      <td>Idaho</td>\n",
       "      <td>049</td>\n",
       "      <td>Idaho</td>\n",
       "      <td>b'\\x00\\x01\\xad\\x10\\x00\\x00 q\\xc9P\\xd9\\xfd\\\\\\xc...</td>\n",
       "    </tr>\n",
       "    <tr>\n",
       "      <th>4</th>\n",
       "      <td>1721945</td>\n",
       "      <td>300000005</td>\n",
       "      <td>FS-1522737</td>\n",
       "      <td>FED</td>\n",
       "      <td>FS-FIRESTAT</td>\n",
       "      <td>FS</td>\n",
       "      <td>USIDNCF</td>\n",
       "      <td>Nez Perce - Clearwater National Forests</td>\n",
       "      <td>0117</td>\n",
       "      <td>Nezperce National Forest</td>\n",
       "      <td>...</td>\n",
       "      <td>A</td>\n",
       "      <td>45.598333</td>\n",
       "      <td>-115.449167</td>\n",
       "      <td>5.0</td>\n",
       "      <td>USFS</td>\n",
       "      <td>ID</td>\n",
       "      <td>Idaho</td>\n",
       "      <td>049</td>\n",
       "      <td>Idaho</td>\n",
       "      <td>b'\\x00\\x01\\xad\\x10\\x00\\x00\\x98\\x86\\x8f%\\xbf\\xd...</td>\n",
       "    </tr>\n",
       "  </tbody>\n",
       "</table>\n",
       "<p>5 rows × 39 columns</p>\n",
       "</div>"
      ],
      "text/plain": [
       "   OBJECTID     FOD_ID      FPA_ID SOURCE_SYSTEM_TYPE SOURCE_SYSTEM  \\\n",
       "0   1721941  300000001  FS-1524899                FED   FS-FIRESTAT   \n",
       "1   1721942  300000002  FS-1524894                FED   FS-FIRESTAT   \n",
       "2   1721943  300000003  FS-1524891                FED   FS-FIRESTAT   \n",
       "3   1721944  300000004  FS-1524900                FED   FS-FIRESTAT   \n",
       "4   1721945  300000005  FS-1522737                FED   FS-FIRESTAT   \n",
       "\n",
       "  NWCG_REPORTING_AGENCY NWCG_REPORTING_UNIT_ID  \\\n",
       "0                    FS                USIDNCF   \n",
       "1                    FS                USIDNCF   \n",
       "2                    FS                USIDNCF   \n",
       "3                    FS                USIDNCF   \n",
       "4                    FS                USIDNCF   \n",
       "\n",
       "                  NWCG_REPORTING_UNIT_NAME SOURCE_REPORTING_UNIT  \\\n",
       "0  Nez Perce - Clearwater National Forests                  0117   \n",
       "1  Nez Perce - Clearwater National Forests                  0117   \n",
       "2  Nez Perce - Clearwater National Forests                  0117   \n",
       "3  Nez Perce - Clearwater National Forests                  0117   \n",
       "4  Nez Perce - Clearwater National Forests                  0117   \n",
       "\n",
       "  SOURCE_REPORTING_UNIT_NAME  ... FIRE_SIZE_CLASS   LATITUDE   LONGITUDE  \\\n",
       "0   Nezperce National Forest  ...               A  45.340833 -116.466667   \n",
       "1   Nezperce National Forest  ...               A  45.505278 -116.425556   \n",
       "2   Nezperce National Forest  ...               A  45.908056 -115.767778   \n",
       "3   Nezperce National Forest  ...               A  45.840000 -115.966389   \n",
       "4   Nezperce National Forest  ...               A  45.598333 -115.449167   \n",
       "\n",
       "  OWNER_CODE OWNER_DESCR STATE COUNTY FIPS_CODE FIPS_NAME  \\\n",
       "0        5.0        USFS    ID  Idaho       049     Idaho   \n",
       "1        5.0        USFS    ID  Idaho       049     Idaho   \n",
       "2        5.0        USFS    ID  Idaho       049     Idaho   \n",
       "3        5.0        USFS    ID  Idaho       049     Idaho   \n",
       "4        5.0        USFS    ID  Idaho       049     Idaho   \n",
       "\n",
       "                                               Shape  \n",
       "0  b'\\x00\\x01\\xad\\x10\\x00\\x00\\x1cr\\xe1\\xdd\\xdd\\x1...  \n",
       "1  b'\\x00\\x01\\xad\\x10\\x00\\x00,5cM<\\x1b]\\xc0p?:\\xf...  \n",
       "2  b'\\x00\\x01\\xad\\x10\\x00\\x00\\x80\\xeciE#\\xf1\\\\\\xc...  \n",
       "3  b'\\x00\\x01\\xad\\x10\\x00\\x00 q\\xc9P\\xd9\\xfd\\\\\\xc...  \n",
       "4  b'\\x00\\x01\\xad\\x10\\x00\\x00\\x98\\x86\\x8f%\\xbf\\xd...  \n",
       "\n",
       "[5 rows x 39 columns]"
      ]
     },
     "execution_count": 3,
     "metadata": {},
     "output_type": "execute_result"
    }
   ],
   "source": [
    "# loading data - I limited data to one year to simplify computations and to limit memory and processor usage, to match my computers' limits\n",
    "data = pd.read_sql_query(\"SELECT * FROM Fires WHERE FIRE_YEAR = 2014\",con)\n",
    "data.head()"
   ]
  },
  {
   "cell_type": "code",
   "execution_count": 55,
   "id": "seven-negative",
   "metadata": {},
   "outputs": [],
   "source": [
    "# viewing unique causes of fires (target)\n",
    "causes = {}\n",
    "for i in range(len(data.STAT_CAUSE_CODE.unique())):\n",
    "    causes[i+1] = data[data.STAT_CAUSE_CODE==i+1][\"STAT_CAUSE_DESCR\"].iloc[0]"
   ]
  },
  {
   "cell_type": "code",
   "execution_count": 56,
   "id": "instant-midwest",
   "metadata": {},
   "outputs": [
    {
     "data": {
      "text/plain": [
       "{1: 'Lightning',\n",
       " 2: 'Equipment Use',\n",
       " 3: 'Smoking',\n",
       " 4: 'Campfire',\n",
       " 5: 'Debris Burning',\n",
       " 6: 'Railroad',\n",
       " 7: 'Arson',\n",
       " 8: 'Children',\n",
       " 9: 'Miscellaneous',\n",
       " 10: 'Fireworks',\n",
       " 11: 'Powerline',\n",
       " 12: 'Structure',\n",
       " 13: 'Missing/Undefined'}"
      ]
     },
     "execution_count": 56,
     "metadata": {},
     "output_type": "execute_result"
    }
   ],
   "source": [
    "causes"
   ]
  },
  {
   "cell_type": "code",
   "execution_count": 4,
   "id": "quiet-champagne",
   "metadata": {},
   "outputs": [],
   "source": [
    "# computing the length of fire\n",
    "data[\"time_burning\"] = [(data.CONT_DATE[i]-data.DISCOVERY_DATE[i])+1 for i in range(len(data.CONT_DATE))]"
   ]
  },
  {
   "cell_type": "code",
   "execution_count": 7,
   "id": "public-arrow",
   "metadata": {},
   "outputs": [],
   "source": [
    "# filling missing values\n",
    "data[\"time_burning\"] = data.time_burning.fillna(data[\"time_burning\"].mean())"
   ]
  },
  {
   "cell_type": "code",
   "execution_count": 8,
   "id": "dominant-printer",
   "metadata": {},
   "outputs": [],
   "source": [
    "# selecting columns based on descriptions\n",
    "\n",
    "data_classification = data[[\"DISCOVERY_DOY\",\"STAT_CAUSE_CODE\",\"FIRE_SIZE\",\"STATE\",\"COUNTY\",\"LONGITUDE\",\"LATITUDE\",\"OWNER_CODE\",\"time_burning\"]]"
   ]
  },
  {
   "cell_type": "code",
   "execution_count": 9,
   "id": "italic-court",
   "metadata": {},
   "outputs": [
    {
     "data": {
      "text/plain": [
       "DISCOVERY_DOY         0\n",
       "STAT_CAUSE_CODE       0\n",
       "FIRE_SIZE             0\n",
       "STATE                 0\n",
       "COUNTY             6361\n",
       "LONGITUDE             0\n",
       "LATITUDE              0\n",
       "OWNER_CODE            0\n",
       "time_burning          0\n",
       "dtype: int64"
      ]
     },
     "execution_count": 9,
     "metadata": {},
     "output_type": "execute_result"
    }
   ],
   "source": [
    "# checking NaN values\n",
    "data_classification.isna().sum()"
   ]
  },
  {
   "cell_type": "code",
   "execution_count": 10,
   "id": "novel-footwear",
   "metadata": {},
   "outputs": [
    {
     "name": "stderr",
     "output_type": "stream",
     "text": [
      "C:\\Users\\szklarnia\\anaconda3\\lib\\site-packages\\pandas\\core\\generic.py:5491: SettingWithCopyWarning: \n",
      "A value is trying to be set on a copy of a slice from a DataFrame.\n",
      "Try using .loc[row_indexer,col_indexer] = value instead\n",
      "\n",
      "See the caveats in the documentation: https://pandas.pydata.org/pandas-docs/stable/user_guide/indexing.html#returning-a-view-versus-a-copy\n",
      "  self[name] = value\n"
     ]
    }
   ],
   "source": [
    "# translating state names to numbers\n",
    "for i in range(len(data_classification.STATE.unique())):\n",
    "        data_classification.STATE = data_classification.STATE.replace(data_classification.STATE.unique()[i],str(i))"
   ]
  },
  {
   "cell_type": "markdown",
   "id": "attended-forty",
   "metadata": {},
   "source": [
    "1/3 of county data is missing. We cannot assign most common name to NaN's or fill them in some other way. Column will be dropped, LAT and LONG combined carry simmilar, even more detailed  information"
   ]
  },
  {
   "cell_type": "code",
   "execution_count": 11,
   "id": "behavioral-eagle",
   "metadata": {},
   "outputs": [],
   "source": [
    "# specyfing learning set and target\n",
    "X = data_classification[[\"DISCOVERY_DOY\",\"FIRE_SIZE\",\"STATE\",\"LONGITUDE\",\"LATITUDE\",\"OWNER_CODE\"]]\n",
    "y = data_classification[\"STAT_CAUSE_CODE\"]"
   ]
  },
  {
   "cell_type": "code",
   "execution_count": 12,
   "id": "appreciated-manual",
   "metadata": {},
   "outputs": [],
   "source": [
    "# performing test train split\n",
    "X_train,X_test,y_train,y_test = train_test_split(X,y,test_size = 0.2)"
   ]
  },
  {
   "cell_type": "code",
   "execution_count": 13,
   "id": "ongoing-democracy",
   "metadata": {},
   "outputs": [
    {
     "data": {
      "text/html": [
       "<div>\n",
       "<style scoped>\n",
       "    .dataframe tbody tr th:only-of-type {\n",
       "        vertical-align: middle;\n",
       "    }\n",
       "\n",
       "    .dataframe tbody tr th {\n",
       "        vertical-align: top;\n",
       "    }\n",
       "\n",
       "    .dataframe thead th {\n",
       "        text-align: right;\n",
       "    }\n",
       "</style>\n",
       "<table border=\"1\" class=\"dataframe\">\n",
       "  <thead>\n",
       "    <tr style=\"text-align: right;\">\n",
       "      <th></th>\n",
       "      <th>DISCOVERY_DOY</th>\n",
       "      <th>FIRE_SIZE</th>\n",
       "      <th>STATE</th>\n",
       "      <th>LONGITUDE</th>\n",
       "      <th>LATITUDE</th>\n",
       "      <th>OWNER_CODE</th>\n",
       "    </tr>\n",
       "  </thead>\n",
       "  <tbody>\n",
       "    <tr>\n",
       "      <th>33040</th>\n",
       "      <td>93</td>\n",
       "      <td>0.3</td>\n",
       "      <td>22</td>\n",
       "      <td>-79.419060</td>\n",
       "      <td>34.591179</td>\n",
       "      <td>8.0</td>\n",
       "    </tr>\n",
       "    <tr>\n",
       "      <th>17383</th>\n",
       "      <td>175</td>\n",
       "      <td>2.0</td>\n",
       "      <td>11</td>\n",
       "      <td>-104.187960</td>\n",
       "      <td>31.039060</td>\n",
       "      <td>14.0</td>\n",
       "    </tr>\n",
       "    <tr>\n",
       "      <th>45683</th>\n",
       "      <td>21</td>\n",
       "      <td>12.0</td>\n",
       "      <td>17</td>\n",
       "      <td>-87.557546</td>\n",
       "      <td>33.948415</td>\n",
       "      <td>14.0</td>\n",
       "    </tr>\n",
       "    <tr>\n",
       "      <th>62005</th>\n",
       "      <td>50</td>\n",
       "      <td>10.0</td>\n",
       "      <td>11</td>\n",
       "      <td>-97.153045</td>\n",
       "      <td>33.254397</td>\n",
       "      <td>14.0</td>\n",
       "    </tr>\n",
       "    <tr>\n",
       "      <th>772</th>\n",
       "      <td>4</td>\n",
       "      <td>0.1</td>\n",
       "      <td>4</td>\n",
       "      <td>-118.750833</td>\n",
       "      <td>34.644167</td>\n",
       "      <td>5.0</td>\n",
       "    </tr>\n",
       "    <tr>\n",
       "      <th>...</th>\n",
       "      <td>...</td>\n",
       "      <td>...</td>\n",
       "      <td>...</td>\n",
       "      <td>...</td>\n",
       "      <td>...</td>\n",
       "      <td>...</td>\n",
       "    </tr>\n",
       "    <tr>\n",
       "      <th>32780</th>\n",
       "      <td>92</td>\n",
       "      <td>0.2</td>\n",
       "      <td>21</td>\n",
       "      <td>-78.220617</td>\n",
       "      <td>35.993850</td>\n",
       "      <td>14.0</td>\n",
       "    </tr>\n",
       "    <tr>\n",
       "      <th>13890</th>\n",
       "      <td>201</td>\n",
       "      <td>0.1</td>\n",
       "      <td>3</td>\n",
       "      <td>-111.936900</td>\n",
       "      <td>39.196100</td>\n",
       "      <td>1.0</td>\n",
       "    </tr>\n",
       "    <tr>\n",
       "      <th>35091</th>\n",
       "      <td>124</td>\n",
       "      <td>1.0</td>\n",
       "      <td>31</td>\n",
       "      <td>-91.472500</td>\n",
       "      <td>37.634444</td>\n",
       "      <td>14.0</td>\n",
       "    </tr>\n",
       "    <tr>\n",
       "      <th>26882</th>\n",
       "      <td>20</td>\n",
       "      <td>13.0</td>\n",
       "      <td>18</td>\n",
       "      <td>-88.762417</td>\n",
       "      <td>36.153700</td>\n",
       "      <td>8.0</td>\n",
       "    </tr>\n",
       "    <tr>\n",
       "      <th>42684</th>\n",
       "      <td>94</td>\n",
       "      <td>1.0</td>\n",
       "      <td>11</td>\n",
       "      <td>-95.479388</td>\n",
       "      <td>31.384493</td>\n",
       "      <td>14.0</td>\n",
       "    </tr>\n",
       "  </tbody>\n",
       "</table>\n",
       "<p>54202 rows × 6 columns</p>\n",
       "</div>"
      ],
      "text/plain": [
       "       DISCOVERY_DOY  FIRE_SIZE STATE   LONGITUDE   LATITUDE  OWNER_CODE\n",
       "33040             93        0.3    22  -79.419060  34.591179         8.0\n",
       "17383            175        2.0    11 -104.187960  31.039060        14.0\n",
       "45683             21       12.0    17  -87.557546  33.948415        14.0\n",
       "62005             50       10.0    11  -97.153045  33.254397        14.0\n",
       "772                4        0.1     4 -118.750833  34.644167         5.0\n",
       "...              ...        ...   ...         ...        ...         ...\n",
       "32780             92        0.2    21  -78.220617  35.993850        14.0\n",
       "13890            201        0.1     3 -111.936900  39.196100         1.0\n",
       "35091            124        1.0    31  -91.472500  37.634444        14.0\n",
       "26882             20       13.0    18  -88.762417  36.153700         8.0\n",
       "42684             94        1.0    11  -95.479388  31.384493        14.0\n",
       "\n",
       "[54202 rows x 6 columns]"
      ]
     },
     "execution_count": 13,
     "metadata": {},
     "output_type": "execute_result"
    }
   ],
   "source": [
    "X_train"
   ]
  },
  {
   "cell_type": "code",
   "execution_count": 14,
   "id": "desperate-cemetery",
   "metadata": {},
   "outputs": [
    {
     "data": {
      "text/plain": [
       "0.4254298575750867"
      ]
     },
     "execution_count": 14,
     "metadata": {},
     "output_type": "execute_result"
    }
   ],
   "source": [
    "# trying simple logistic regression to see if data is possible to model\n",
    "\n",
    "LR = Pipeline([(\"Scaler\",StandardScaler()),(\"Logistic_Regression\",LogisticRegression(solver=\"liblinear\"))])\n",
    "\n",
    "LR.fit(X_train,y_train)\n",
    "LR.score(X_test,y_test)"
   ]
  },
  {
   "cell_type": "code",
   "execution_count": 15,
   "id": "direct-agreement",
   "metadata": {},
   "outputs": [],
   "source": [
    "# we'll try 3 classifiers at first - Logistic Regression, Decision Tree and Random Forest\n",
    "pipelines = [make_pipeline(StandardScaler(),LogisticRegression(solver=\"liblinear\")), # Logistic Regression\n",
    "            make_pipeline(StandardScaler(),DecisionTreeClassifier()),                # Decision Tree\n",
    "            make_pipeline(StandardScaler(),RandomForestClassifier())]                     # Random Forest\n",
    "\n",
    "# Defining parameters to check for each defined model. I'm using only gini criterion for random forest and decision tree,\n",
    "# as it's computation is faster and i have a limited amount of computational power\n",
    "param_grids = [{\"logisticregression__penalty\":[\"l1\",\"l2\"],\"logisticregression__C\":[0.001,0.01,0.1,1,10,100,1000]},\n",
    "              {\"decisiontreeclassifier__criterion\":[\"gini\"],\"decisiontreeclassifier__min_samples_split\":[2,4,6,8,10]},\n",
    "              {\"randomforestclassifier__criterion\":[\"gini\"],\n",
    "              \"randomforestclassifier__n_estimators\":[100,200,300], \"randomforestclassifier__min_samples_split\":[2,4,6,8,10]}]"
   ]
  },
  {
   "cell_type": "code",
   "execution_count": 16,
   "id": "independent-retail",
   "metadata": {},
   "outputs": [
    {
     "name": "stdout",
     "output_type": "stream",
     "text": [
      "Fitting 5 folds for each of 14 candidates, totalling 70 fits\n"
     ]
    },
    {
     "name": "stderr",
     "output_type": "stream",
     "text": [
      "[Parallel(n_jobs=3)]: Using backend LokyBackend with 3 concurrent workers.\n",
      "[Parallel(n_jobs=3)]: Done  26 tasks      | elapsed:   14.8s\n",
      "[Parallel(n_jobs=3)]: Done  70 out of  70 | elapsed:   47.2s finished\n",
      "C:\\Users\\szklarnia\\anaconda3\\lib\\site-packages\\sklearn\\svm\\_base.py:976: ConvergenceWarning: Liblinear failed to converge, increase the number of iterations.\n",
      "  warnings.warn(\"Liblinear failed to converge, increase \"\n",
      "[Parallel(n_jobs=3)]: Using backend LokyBackend with 3 concurrent workers.\n"
     ]
    },
    {
     "name": "stdout",
     "output_type": "stream",
     "text": [
      "Fitting 5 folds for each of 5 candidates, totalling 25 fits\n"
     ]
    },
    {
     "name": "stderr",
     "output_type": "stream",
     "text": [
      "[Parallel(n_jobs=3)]: Done  25 out of  25 | elapsed:    3.2s finished\n"
     ]
    },
    {
     "name": "stdout",
     "output_type": "stream",
     "text": [
      "Fitting 5 folds for each of 15 candidates, totalling 75 fits\n"
     ]
    },
    {
     "name": "stderr",
     "output_type": "stream",
     "text": [
      "[Parallel(n_jobs=3)]: Using backend LokyBackend with 3 concurrent workers.\n",
      "[Parallel(n_jobs=3)]: Done  26 tasks      | elapsed:  2.5min\n",
      "[Parallel(n_jobs=3)]: Done  75 out of  75 | elapsed:  6.5min finished\n"
     ]
    },
    {
     "name": "stdout",
     "output_type": "stream",
     "text": [
      "Best model: Pipeline(steps=[('standardscaler', StandardScaler()),\n",
      "                ('randomforestclassifier', RandomForestClassifier())]) with {'randomforestclassifier__criterion': 'gini', 'randomforestclassifier__min_samples_split': 6, 'randomforestclassifier__n_estimators': 300} parameters. F1 score = 0.6009150616190687 and Accuracy score = 0.6009150616190687\n"
     ]
    }
   ],
   "source": [
    "# finding best model using GridSearchCV\n",
    "\n",
    "find_best_model(X_train,X_test,y_train,y_test,pipelines,param_grids)"
   ]
  },
  {
   "cell_type": "markdown",
   "id": "black-verse",
   "metadata": {},
   "source": [
    "Best classifier seems to be Random Forest. Before trying XGBoost let's increase number of estimators and include additional parameters to get even better score from it"
   ]
  },
  {
   "cell_type": "code",
   "execution_count": 17,
   "id": "primary-event",
   "metadata": {},
   "outputs": [],
   "source": [
    "# specyfying new parameters for random forest to test\n",
    "pipeline = [make_pipeline(StandardScaler(),RandomForestClassifier())]\n",
    "param_grid = [{\"randomforestclassifier__criterion\":[\"gini\"],\n",
    "              \"randomforestclassifier__n_estimators\":[300,500], \"randomforestclassifier__min_samples_split\":[2,4,6,8,10],\n",
    "              \"randomforestclassifier__min_samples_leaf\":[1,2,4,6]}]"
   ]
  },
  {
   "cell_type": "code",
   "execution_count": 18,
   "id": "conservative-freeware",
   "metadata": {},
   "outputs": [
    {
     "name": "stdout",
     "output_type": "stream",
     "text": [
      "Fitting 5 folds for each of 40 candidates, totalling 200 fits\n"
     ]
    },
    {
     "name": "stderr",
     "output_type": "stream",
     "text": [
      "[Parallel(n_jobs=3)]: Using backend LokyBackend with 3 concurrent workers.\n",
      "[Parallel(n_jobs=3)]: Done  26 tasks      | elapsed:  4.7min\n",
      "[Parallel(n_jobs=3)]: Done 122 tasks      | elapsed: 19.3min\n",
      "[Parallel(n_jobs=3)]: Done 200 out of 200 | elapsed: 29.7min finished\n"
     ]
    },
    {
     "name": "stdout",
     "output_type": "stream",
     "text": [
      "Best model: Pipeline(steps=[('standardscaler', StandardScaler()),\n",
      "                ('randomforestclassifier', RandomForestClassifier())]) with {'randomforestclassifier__criterion': 'gini', 'randomforestclassifier__min_samples_leaf': 2, 'randomforestclassifier__min_samples_split': 2, 'randomforestclassifier__n_estimators': 500} parameters. F1 score = 0.6012102427865103 and Accuracy score = 0.6012102427865103\n"
     ]
    }
   ],
   "source": [
    "# finding best Random Forest model using GridSearchCV\n",
    "find_best_model(X_train,X_test,y_train,y_test,pipeline,param_grid)"
   ]
  },
  {
   "cell_type": "code",
   "execution_count": 22,
   "id": "expected-aside",
   "metadata": {
    "scrolled": true
   },
   "outputs": [
    {
     "name": "stdout",
     "output_type": "stream",
     "text": [
      "Fitting 3 folds for each of 20 candidates, totalling 60 fits\n"
     ]
    },
    {
     "name": "stderr",
     "output_type": "stream",
     "text": [
      "[Parallel(n_jobs=3)]: Using backend LokyBackend with 3 concurrent workers.\n",
      "[Parallel(n_jobs=3)]: Done  26 tasks      | elapsed:  6.7min\n",
      "[Parallel(n_jobs=3)]: Done  60 out of  60 | elapsed: 16.9min finished\n"
     ]
    },
    {
     "name": "stdout",
     "output_type": "stream",
     "text": [
      "0.5990701793225592\n"
     ]
    },
    {
     "ename": "ValueError",
     "evalue": "Target is multiclass but average='binary'. Please choose another average setting, one of [None, 'micro', 'macro', 'weighted'].",
     "output_type": "error",
     "traceback": [
      "\u001b[1;31m---------------------------------------------------------------------------\u001b[0m",
      "\u001b[1;31mValueError\u001b[0m                                Traceback (most recent call last)",
      "\u001b[1;32m<ipython-input-22-8cb4b1d87a63>\u001b[0m in \u001b[0;36m<module>\u001b[1;34m\u001b[0m\n\u001b[0;32m     19\u001b[0m \u001b[0mprint\u001b[0m\u001b[1;33m(\u001b[0m\u001b[0mgrid\u001b[0m\u001b[1;33m.\u001b[0m\u001b[0mscore\u001b[0m\u001b[1;33m(\u001b[0m\u001b[0mX_test\u001b[0m\u001b[1;33m,\u001b[0m\u001b[0my_test\u001b[0m\u001b[1;33m)\u001b[0m\u001b[1;33m)\u001b[0m\u001b[1;33m\u001b[0m\u001b[1;33m\u001b[0m\u001b[0m\n\u001b[0;32m     20\u001b[0m \u001b[0my_pred\u001b[0m \u001b[1;33m=\u001b[0m \u001b[0mgrid\u001b[0m\u001b[1;33m.\u001b[0m\u001b[0mpredict\u001b[0m\u001b[1;33m(\u001b[0m\u001b[0mX_test\u001b[0m\u001b[1;33m)\u001b[0m\u001b[1;33m\u001b[0m\u001b[1;33m\u001b[0m\u001b[0m\n\u001b[1;32m---> 21\u001b[1;33m \u001b[0mscr_f1\u001b[0m \u001b[1;33m=\u001b[0m \u001b[0mf1_score\u001b[0m\u001b[1;33m(\u001b[0m\u001b[0my_test\u001b[0m\u001b[1;33m,\u001b[0m\u001b[0my_pred\u001b[0m\u001b[1;33m)\u001b[0m\u001b[1;33m\u001b[0m\u001b[1;33m\u001b[0m\u001b[0m\n\u001b[0m\u001b[0;32m     22\u001b[0m \u001b[0mprint\u001b[0m\u001b[1;33m(\u001b[0m\u001b[0mscr_f1\u001b[0m\u001b[1;33m)\u001b[0m\u001b[1;33m\u001b[0m\u001b[1;33m\u001b[0m\u001b[0m\n",
      "\u001b[1;32m~\\anaconda3\\lib\\site-packages\\sklearn\\utils\\validation.py\u001b[0m in \u001b[0;36minner_f\u001b[1;34m(*args, **kwargs)\u001b[0m\n\u001b[0;32m     70\u001b[0m                           FutureWarning)\n\u001b[0;32m     71\u001b[0m         \u001b[0mkwargs\u001b[0m\u001b[1;33m.\u001b[0m\u001b[0mupdate\u001b[0m\u001b[1;33m(\u001b[0m\u001b[1;33m{\u001b[0m\u001b[0mk\u001b[0m\u001b[1;33m:\u001b[0m \u001b[0marg\u001b[0m \u001b[1;32mfor\u001b[0m \u001b[0mk\u001b[0m\u001b[1;33m,\u001b[0m \u001b[0marg\u001b[0m \u001b[1;32min\u001b[0m \u001b[0mzip\u001b[0m\u001b[1;33m(\u001b[0m\u001b[0msig\u001b[0m\u001b[1;33m.\u001b[0m\u001b[0mparameters\u001b[0m\u001b[1;33m,\u001b[0m \u001b[0margs\u001b[0m\u001b[1;33m)\u001b[0m\u001b[1;33m}\u001b[0m\u001b[1;33m)\u001b[0m\u001b[1;33m\u001b[0m\u001b[1;33m\u001b[0m\u001b[0m\n\u001b[1;32m---> 72\u001b[1;33m         \u001b[1;32mreturn\u001b[0m \u001b[0mf\u001b[0m\u001b[1;33m(\u001b[0m\u001b[1;33m**\u001b[0m\u001b[0mkwargs\u001b[0m\u001b[1;33m)\u001b[0m\u001b[1;33m\u001b[0m\u001b[1;33m\u001b[0m\u001b[0m\n\u001b[0m\u001b[0;32m     73\u001b[0m     \u001b[1;32mreturn\u001b[0m \u001b[0minner_f\u001b[0m\u001b[1;33m\u001b[0m\u001b[1;33m\u001b[0m\u001b[0m\n\u001b[0;32m     74\u001b[0m \u001b[1;33m\u001b[0m\u001b[0m\n",
      "\u001b[1;32m~\\anaconda3\\lib\\site-packages\\sklearn\\metrics\\_classification.py\u001b[0m in \u001b[0;36mf1_score\u001b[1;34m(y_true, y_pred, labels, pos_label, average, sample_weight, zero_division)\u001b[0m\n\u001b[0;32m   1042\u001b[0m     \u001b[0mmodified\u001b[0m \u001b[1;32mwith\u001b[0m\u001b[0;31m \u001b[0m\u001b[0;31m`\u001b[0m\u001b[0;31m`\u001b[0m\u001b[0mzero_division\u001b[0m\u001b[0;31m`\u001b[0m\u001b[0;31m`\u001b[0m\u001b[1;33m.\u001b[0m\u001b[1;33m\u001b[0m\u001b[1;33m\u001b[0m\u001b[0m\n\u001b[0;32m   1043\u001b[0m     \"\"\"\n\u001b[1;32m-> 1044\u001b[1;33m     return fbeta_score(y_true, y_pred, beta=1, labels=labels,\n\u001b[0m\u001b[0;32m   1045\u001b[0m                        \u001b[0mpos_label\u001b[0m\u001b[1;33m=\u001b[0m\u001b[0mpos_label\u001b[0m\u001b[1;33m,\u001b[0m \u001b[0maverage\u001b[0m\u001b[1;33m=\u001b[0m\u001b[0maverage\u001b[0m\u001b[1;33m,\u001b[0m\u001b[1;33m\u001b[0m\u001b[1;33m\u001b[0m\u001b[0m\n\u001b[0;32m   1046\u001b[0m                        \u001b[0msample_weight\u001b[0m\u001b[1;33m=\u001b[0m\u001b[0msample_weight\u001b[0m\u001b[1;33m,\u001b[0m\u001b[1;33m\u001b[0m\u001b[1;33m\u001b[0m\u001b[0m\n",
      "\u001b[1;32m~\\anaconda3\\lib\\site-packages\\sklearn\\utils\\validation.py\u001b[0m in \u001b[0;36minner_f\u001b[1;34m(*args, **kwargs)\u001b[0m\n\u001b[0;32m     70\u001b[0m                           FutureWarning)\n\u001b[0;32m     71\u001b[0m         \u001b[0mkwargs\u001b[0m\u001b[1;33m.\u001b[0m\u001b[0mupdate\u001b[0m\u001b[1;33m(\u001b[0m\u001b[1;33m{\u001b[0m\u001b[0mk\u001b[0m\u001b[1;33m:\u001b[0m \u001b[0marg\u001b[0m \u001b[1;32mfor\u001b[0m \u001b[0mk\u001b[0m\u001b[1;33m,\u001b[0m \u001b[0marg\u001b[0m \u001b[1;32min\u001b[0m \u001b[0mzip\u001b[0m\u001b[1;33m(\u001b[0m\u001b[0msig\u001b[0m\u001b[1;33m.\u001b[0m\u001b[0mparameters\u001b[0m\u001b[1;33m,\u001b[0m \u001b[0margs\u001b[0m\u001b[1;33m)\u001b[0m\u001b[1;33m}\u001b[0m\u001b[1;33m)\u001b[0m\u001b[1;33m\u001b[0m\u001b[1;33m\u001b[0m\u001b[0m\n\u001b[1;32m---> 72\u001b[1;33m         \u001b[1;32mreturn\u001b[0m \u001b[0mf\u001b[0m\u001b[1;33m(\u001b[0m\u001b[1;33m**\u001b[0m\u001b[0mkwargs\u001b[0m\u001b[1;33m)\u001b[0m\u001b[1;33m\u001b[0m\u001b[1;33m\u001b[0m\u001b[0m\n\u001b[0m\u001b[0;32m     73\u001b[0m     \u001b[1;32mreturn\u001b[0m \u001b[0minner_f\u001b[0m\u001b[1;33m\u001b[0m\u001b[1;33m\u001b[0m\u001b[0m\n\u001b[0;32m     74\u001b[0m \u001b[1;33m\u001b[0m\u001b[0m\n",
      "\u001b[1;32m~\\anaconda3\\lib\\site-packages\\sklearn\\metrics\\_classification.py\u001b[0m in \u001b[0;36mfbeta_score\u001b[1;34m(y_true, y_pred, beta, labels, pos_label, average, sample_weight, zero_division)\u001b[0m\n\u001b[0;32m   1166\u001b[0m     \"\"\"\n\u001b[0;32m   1167\u001b[0m \u001b[1;33m\u001b[0m\u001b[0m\n\u001b[1;32m-> 1168\u001b[1;33m     _, _, f, _ = precision_recall_fscore_support(y_true, y_pred,\n\u001b[0m\u001b[0;32m   1169\u001b[0m                                                  \u001b[0mbeta\u001b[0m\u001b[1;33m=\u001b[0m\u001b[0mbeta\u001b[0m\u001b[1;33m,\u001b[0m\u001b[1;33m\u001b[0m\u001b[1;33m\u001b[0m\u001b[0m\n\u001b[0;32m   1170\u001b[0m                                                  \u001b[0mlabels\u001b[0m\u001b[1;33m=\u001b[0m\u001b[0mlabels\u001b[0m\u001b[1;33m,\u001b[0m\u001b[1;33m\u001b[0m\u001b[1;33m\u001b[0m\u001b[0m\n",
      "\u001b[1;32m~\\anaconda3\\lib\\site-packages\\sklearn\\utils\\validation.py\u001b[0m in \u001b[0;36minner_f\u001b[1;34m(*args, **kwargs)\u001b[0m\n\u001b[0;32m     70\u001b[0m                           FutureWarning)\n\u001b[0;32m     71\u001b[0m         \u001b[0mkwargs\u001b[0m\u001b[1;33m.\u001b[0m\u001b[0mupdate\u001b[0m\u001b[1;33m(\u001b[0m\u001b[1;33m{\u001b[0m\u001b[0mk\u001b[0m\u001b[1;33m:\u001b[0m \u001b[0marg\u001b[0m \u001b[1;32mfor\u001b[0m \u001b[0mk\u001b[0m\u001b[1;33m,\u001b[0m \u001b[0marg\u001b[0m \u001b[1;32min\u001b[0m \u001b[0mzip\u001b[0m\u001b[1;33m(\u001b[0m\u001b[0msig\u001b[0m\u001b[1;33m.\u001b[0m\u001b[0mparameters\u001b[0m\u001b[1;33m,\u001b[0m \u001b[0margs\u001b[0m\u001b[1;33m)\u001b[0m\u001b[1;33m}\u001b[0m\u001b[1;33m)\u001b[0m\u001b[1;33m\u001b[0m\u001b[1;33m\u001b[0m\u001b[0m\n\u001b[1;32m---> 72\u001b[1;33m         \u001b[1;32mreturn\u001b[0m \u001b[0mf\u001b[0m\u001b[1;33m(\u001b[0m\u001b[1;33m**\u001b[0m\u001b[0mkwargs\u001b[0m\u001b[1;33m)\u001b[0m\u001b[1;33m\u001b[0m\u001b[1;33m\u001b[0m\u001b[0m\n\u001b[0m\u001b[0;32m     73\u001b[0m     \u001b[1;32mreturn\u001b[0m \u001b[0minner_f\u001b[0m\u001b[1;33m\u001b[0m\u001b[1;33m\u001b[0m\u001b[0m\n\u001b[0;32m     74\u001b[0m \u001b[1;33m\u001b[0m\u001b[0m\n",
      "\u001b[1;32m~\\anaconda3\\lib\\site-packages\\sklearn\\metrics\\_classification.py\u001b[0m in \u001b[0;36mprecision_recall_fscore_support\u001b[1;34m(y_true, y_pred, beta, labels, pos_label, average, warn_for, sample_weight, zero_division)\u001b[0m\n\u001b[0;32m   1431\u001b[0m     \u001b[1;32mif\u001b[0m \u001b[0mbeta\u001b[0m \u001b[1;33m<\u001b[0m \u001b[1;36m0\u001b[0m\u001b[1;33m:\u001b[0m\u001b[1;33m\u001b[0m\u001b[1;33m\u001b[0m\u001b[0m\n\u001b[0;32m   1432\u001b[0m         \u001b[1;32mraise\u001b[0m \u001b[0mValueError\u001b[0m\u001b[1;33m(\u001b[0m\u001b[1;34m\"beta should be >=0 in the F-beta score\"\u001b[0m\u001b[1;33m)\u001b[0m\u001b[1;33m\u001b[0m\u001b[1;33m\u001b[0m\u001b[0m\n\u001b[1;32m-> 1433\u001b[1;33m     labels = _check_set_wise_labels(y_true, y_pred, average, labels,\n\u001b[0m\u001b[0;32m   1434\u001b[0m                                     pos_label)\n\u001b[0;32m   1435\u001b[0m \u001b[1;33m\u001b[0m\u001b[0m\n",
      "\u001b[1;32m~\\anaconda3\\lib\\site-packages\\sklearn\\metrics\\_classification.py\u001b[0m in \u001b[0;36m_check_set_wise_labels\u001b[1;34m(y_true, y_pred, average, labels, pos_label)\u001b[0m\n\u001b[0;32m   1261\u001b[0m             \u001b[1;32mif\u001b[0m \u001b[0my_type\u001b[0m \u001b[1;33m==\u001b[0m \u001b[1;34m'multiclass'\u001b[0m\u001b[1;33m:\u001b[0m\u001b[1;33m\u001b[0m\u001b[1;33m\u001b[0m\u001b[0m\n\u001b[0;32m   1262\u001b[0m                 \u001b[0maverage_options\u001b[0m\u001b[1;33m.\u001b[0m\u001b[0mremove\u001b[0m\u001b[1;33m(\u001b[0m\u001b[1;34m'samples'\u001b[0m\u001b[1;33m)\u001b[0m\u001b[1;33m\u001b[0m\u001b[1;33m\u001b[0m\u001b[0m\n\u001b[1;32m-> 1263\u001b[1;33m             raise ValueError(\"Target is %s but average='binary'. Please \"\n\u001b[0m\u001b[0;32m   1264\u001b[0m                              \u001b[1;34m\"choose another average setting, one of %r.\"\u001b[0m\u001b[1;33m\u001b[0m\u001b[1;33m\u001b[0m\u001b[0m\n\u001b[0;32m   1265\u001b[0m                              % (y_type, average_options))\n",
      "\u001b[1;31mValueError\u001b[0m: Target is multiclass but average='binary'. Please choose another average setting, one of [None, 'micro', 'macro', 'weighted']."
     ]
    }
   ],
   "source": [
    "# Trying another classifier - XGBoost, using RandomizedSearchCV as XGB has large number of parameters to set and takes fairly long time to compute\n",
    "\n",
    "pipeline = make_pipeline(StandardScaler(),XGBClassifier())\n",
    "params = {\"xgbclassifier__n_estimators\":[10,100,200],\n",
    "         \"xgbclassifier__learning_rate\":ss.uniform(0.01,0.3),\n",
    "          \"xgbclassifier__max_depth\": ss.randint(5,30),\n",
    "         \"xgbclassifier__min_child_weight\":ss.randint(5,50),\n",
    "         \"xgbclassifier__reg_lambda\":ss.uniform(0.1,3),\n",
    "         \"xgbclassifier__tree_method\":[\"auto\",\"approx\",\"hist\"]}\n",
    "grid = RandomizedSearchCV(pipeline,\n",
    "                        param_distributions=params,\n",
    "                        n_iter = 20,\n",
    "                        refit=True,      # refitting best model\n",
    "                        cv = 3,          # nr of crossvalidations\n",
    "                        verbose=3,       # provides information during the learning process\n",
    "                        n_jobs = 3)\n",
    "\n",
    "grid.fit(X_train,y_train)\n",
    "print(grid.score(X_test,y_test))\n",
    "y_pred = grid.predict(X_test)\n",
    "scr_f1 = f1_score(y_test,y_pred,average=\"micro\")\n",
    "print(scr_f1)"
   ]
  },
  {
   "cell_type": "code",
   "execution_count": 26,
   "id": "bulgarian-background",
   "metadata": {},
   "outputs": [
    {
     "data": {
      "text/plain": [
       "0.5990701793225592"
      ]
     },
     "execution_count": 26,
     "metadata": {},
     "output_type": "execute_result"
    }
   ],
   "source": [
    "scr_f1 = f1_score(y_test,y_pred,average=\"micro\")\n",
    "scr_f1"
   ]
  },
  {
   "cell_type": "code",
   "execution_count": 30,
   "id": "understood-friendship",
   "metadata": {},
   "outputs": [],
   "source": [
    "# retraining best model on whole set, creating confusion matrix to see which class performs worst\n",
    "\n",
    "model = make_pipeline(StandardScaler(),RandomForestClassifier(criterion=\"gini\",min_samples_split=2,min_samples_leaf=2,n_estimators=500))\n",
    "\n",
    "model.fit(X,y)\n",
    "pred = model.predict(X)\n",
    "conf_matrix = multilabel_confusion_matrix(y,pred)"
   ]
  },
  {
   "cell_type": "code",
   "execution_count": 57,
   "id": "sufficient-enterprise",
   "metadata": {},
   "outputs": [],
   "source": [
    "# confusion matrix is automatically sorted in order of classes. Matching class codes to descriptions, creating dictionary representing matrices for each cause\n",
    "conf = {}\n",
    "for i in range(len(conf_matrix)):\n",
    "    conf[causes[i+1]] = conf_matrix[i]"
   ]
  },
  {
   "cell_type": "code",
   "execution_count": 58,
   "id": "civic-likelihood",
   "metadata": {},
   "outputs": [
    {
     "data": {
      "text/plain": [
       "{'Lightning': array([[58654,   561],\n",
       "        [  450,  8088]], dtype=int64),\n",
       " 'Equipment Use': array([[63123,   111],\n",
       "        [  919,  3600]], dtype=int64),\n",
       " 'Smoking': array([[66468,     7],\n",
       "        [  708,   570]], dtype=int64),\n",
       " 'Campfire': array([[63714,   238],\n",
       "        [  657,  3144]], dtype=int64),\n",
       " 'Debris Burning': array([[44751,  3142],\n",
       "        [  336, 19524]], dtype=int64),\n",
       " 'Railroad': array([[67224,     0],\n",
       "        [  183,   346]], dtype=int64),\n",
       " 'Arson': array([[60649,   259],\n",
       "        [  973,  5872]], dtype=int64),\n",
       " 'Children': array([[66296,    37],\n",
       "        [  553,   867]], dtype=int64),\n",
       " 'Miscellaneous': array([[50977,  1803],\n",
       "        [  864, 14109]], dtype=int64),\n",
       " 'Fireworks': array([[67156,    25],\n",
       "        [  109,   463]], dtype=int64),\n",
       " 'Powerline': array([[66312,     8],\n",
       "        [  471,   962]], dtype=int64),\n",
       " 'Structure': array([[67469,     0],\n",
       "        [  123,   161]], dtype=int64),\n",
       " 'Missing/Undefined': array([[63807,   245],\n",
       "        [   90,  3611]], dtype=int64)}"
      ]
     },
     "execution_count": 58,
     "metadata": {},
     "output_type": "execute_result"
    }
   ],
   "source": [
    "# confusion matrix is orderd like: [0,0] = True negatives, [0,1] = False negatives, [1.0] = False positives, [1,1] = true positive\n",
    "\n",
    "conf"
   ]
  },
  {
   "cell_type": "code",
   "execution_count": 62,
   "id": "transsexual-robinson",
   "metadata": {},
   "outputs": [],
   "source": [
    "# calculating precission and recall for each class\n",
    "prec_rec = {}\n",
    "for key in conf.keys():\n",
    "    prec_rec[key] = {\"Precission\":conf[key][1,1]/(conf[key][1,0]+conf[key][1,1]), \"Recall\":conf[key][1,1]/(conf[key][0,1]+conf[key][1,1])}"
   ]
  },
  {
   "cell_type": "code",
   "execution_count": 64,
   "id": "disabled-fruit",
   "metadata": {
    "scrolled": true
   },
   "outputs": [
    {
     "data": {
      "text/plain": [
       "{'Lightning': {'Precission': 0.9472944483485594, 'Recall': 0.9351370100589663},\n",
       " 'Equipment Use': {'Precission': 0.7966364239876079,\n",
       "  'Recall': 0.9700889248181084},\n",
       " 'Smoking': {'Precission': 0.4460093896713615, 'Recall': 0.9878682842287695},\n",
       " 'Campfire': {'Precission': 0.8271507498026835, 'Recall': 0.9296274393849793},\n",
       " 'Debris Burning': {'Precission': 0.9830815709969789,\n",
       "  'Recall': 0.8613782758316421},\n",
       " 'Railroad': {'Precission': 0.6540642722117203, 'Recall': 1.0},\n",
       " 'Arson': {'Precission': 0.8578524470416362, 'Recall': 0.9577556679171424},\n",
       " 'Children': {'Precission': 0.6105633802816901, 'Recall': 0.959070796460177},\n",
       " 'Miscellaneous': {'Precission': 0.942296133039471,\n",
       "  'Recall': 0.8866892911010558},\n",
       " 'Fireworks': {'Precission': 0.8094405594405595, 'Recall': 0.9487704918032787},\n",
       " 'Powerline': {'Precission': 0.6713189113747383, 'Recall': 0.9917525773195877},\n",
       " 'Structure': {'Precission': 0.5669014084507042, 'Recall': 1.0},\n",
       " 'Missing/Undefined': {'Precission': 0.97568224804107,\n",
       "  'Recall': 0.9364626556016598}}"
      ]
     },
     "execution_count": 64,
     "metadata": {},
     "output_type": "execute_result"
    }
   ],
   "source": [
    "prec_rec"
   ]
  },
  {
   "cell_type": "markdown",
   "id": "biological-colors",
   "metadata": {},
   "source": [
    "Generally, classification seems to return high recall, as only for two classes the result is lower than 90%. The class is miscellaneous, which does not directly imply the cause and Debris Burning. Even there the recall is over 85%. Generally the model can be employed to find suspicious fire incidents that require investigating by the police. Only in one case, smoking, model is suggesting suspiciousness over twice as often than the true amount of fires caused by smoking. Hovever, smoking is one of the rarer causes of fires, so the number of futile investigations will not be as hard. For most often classes (Lightning, Debris and Miscellaneous) precission is very high so there will not be many futile investigations\n",
    "\n",
    "Even though the models' F1 and accuracy scores are not very high (around 0.6), under closer examination it seems that recall score, more important in this case, is satisfactory. The model can be employed to mark fires requiring closer investigation"
   ]
  },
  {
   "cell_type": "code",
   "execution_count": null,
   "id": "printable-foster",
   "metadata": {},
   "outputs": [],
   "source": []
  }
 ],
 "metadata": {
  "kernelspec": {
   "display_name": "Python 3",
   "language": "python",
   "name": "python3"
  },
  "language_info": {
   "codemirror_mode": {
    "name": "ipython",
    "version": 3
   },
   "file_extension": ".py",
   "mimetype": "text/x-python",
   "name": "python",
   "nbconvert_exporter": "python",
   "pygments_lexer": "ipython3",
   "version": "3.8.3"
  }
 },
 "nbformat": 4,
 "nbformat_minor": 5
}
