{
 "cells": [
  {
   "cell_type": "markdown",
   "id": "extensive-healing",
   "metadata": {},
   "source": [
    "## Dynamic visualization of California fires in 2014\n",
    "\n",
    "GOAL: Creating a plot with dynamic visualizations of daily wildfires burning in CA\n"
   ]
  },
  {
   "cell_type": "code",
   "execution_count": 1,
   "id": "careful-liberal",
   "metadata": {},
   "outputs": [],
   "source": [
    "import time\n",
    "import pandas as pd\n",
    "import numpy as np\n",
    "import sqlite3\n",
    "import os\n",
    "from datetime import date, timedelta\n",
    "import datetime\n",
    "import shapefile as shp\n",
    "import matplotlib.pyplot as plt\n",
    "import seaborn as sns\n",
    "import shapefile\n",
    "import geopandas as gpd\n",
    "from bokeh.models import *\n",
    "from bokeh.plotting import *\n",
    "from bokeh.io import *\n",
    "from bokeh.tile_providers import *\n",
    "from bokeh.palettes import *\n",
    "from bokeh.transform import *\n",
    "from bokeh.layouts import *\n",
    "from scripts import *"
   ]
  },
  {
   "cell_type": "code",
   "execution_count": 2,
   "id": "annoying-clearance",
   "metadata": {},
   "outputs": [],
   "source": [
    "# establishing db connection\n",
    "\n",
    "con = sqlite3.connect(\"FPA_FOD_20170508.sqlite\")"
   ]
  },
  {
   "cell_type": "code",
   "execution_count": 3,
   "id": "mineral-legend",
   "metadata": {},
   "outputs": [],
   "source": [
    "# reading data from database\n",
    "cali_fires = pd.read_sql_query(\"\"\"SELECT STATE, FIRE_SIZE_CLASS,FIRE_SIZE, LONGITUDE, LATITUDE, FIRE_YEAR,\n",
    "date(DISCOVERY_DATE) as DISCOVERY_DATE,date(CONT_DATE) as CONT_DATE\n",
    "FROM Fires\n",
    "WHERE STATE = \"CA\" and FIRE_YEAR = 2014\n",
    "\"\"\", con)"
   ]
  },
  {
   "cell_type": "code",
   "execution_count": 4,
   "id": "ordered-access",
   "metadata": {},
   "outputs": [],
   "source": [
    "# translating fire size class to numerical values\n",
    "cali_fires.FIRE_SIZE_CLASS = cali_fires.FIRE_SIZE_CLASS.map({\"A\":1,\"B\":4,\"C\":8,\"D\":12,\"E\":15,\"F\":20,\"G\":30})"
   ]
  },
  {
   "cell_type": "code",
   "execution_count": 5,
   "id": "prime-rider",
   "metadata": {},
   "outputs": [
    {
     "name": "stderr",
     "output_type": "stream",
     "text": [
      "C:\\Users\\szklarnia\\Desktop\\datascience\\projekty\\us wildfires\\scripts.py:62: SettingWithCopyWarning: \n",
      "A value is trying to be set on a copy of a slice from a DataFrame\n",
      "\n",
      "See the caveats in the documentation: https://pandas.pydata.org/pandas-docs/stable/user_guide/indexing.html#returning-a-view-versus-a-copy\n",
      "  gdf.x_crds[i] = list(gdf.geometry[i].coords)[0][0]\n",
      "C:\\Users\\szklarnia\\Desktop\\datascience\\projekty\\us wildfires\\scripts.py:67: SettingWithCopyWarning: \n",
      "A value is trying to be set on a copy of a slice from a DataFrame\n",
      "\n",
      "See the caveats in the documentation: https://pandas.pydata.org/pandas-docs/stable/user_guide/indexing.html#returning-a-view-versus-a-copy\n",
      "  gdf.y_crds[i] = list(gdf.geometry[i].coords)[0][1]\n"
     ]
    }
   ],
   "source": [
    "# creating geodataframe, resizing fire size class\n",
    "cali_gdf = geodf_create_transform(cali_fires,\"LONGITUDE\",\"LATITUDE\",to_resize=\"FIRE_SIZE_CLASS\",resize=0.001)"
   ]
  },
  {
   "cell_type": "code",
   "execution_count": 6,
   "id": "conscious-signal",
   "metadata": {},
   "outputs": [],
   "source": [
    "# dropping geometry column \n",
    "cali_gdf.drop(\"geometry\",axis=1,inplace=True)"
   ]
  },
  {
   "cell_type": "code",
   "execution_count": 7,
   "id": "spiritual-bottle",
   "metadata": {},
   "outputs": [],
   "source": [
    "# sepcyfying map range\n",
    "cali_max_x, cali_max_y = get_max_min(-111,-128 ,32 ,43)"
   ]
  },
  {
   "cell_type": "code",
   "execution_count": 8,
   "id": "english-champagne",
   "metadata": {},
   "outputs": [],
   "source": [
    "# translating dates to datetime format\n",
    "cali_gdf.DISCOVERY_DATE = [date.fromisoformat(x) for x in cali_gdf.DISCOVERY_DATE]\n",
    "cali_gdf.CONT_DATE = cali_gdf.CONT_DATE.fillna(\"2014-12-31\")\n",
    "cali_gdf.CONT_DATE = [date.fromisoformat(x) for x in cali_gdf.CONT_DATE]"
   ]
  },
  {
   "cell_type": "code",
   "execution_count": 9,
   "id": "received-league",
   "metadata": {},
   "outputs": [],
   "source": [
    "# computing lenght of fires\n",
    "days_between = []\n",
    "for i in range(len(cali_gdf.CONT_DATE)):\n",
    "    days_between.append([cali_gdf.DISCOVERY_DATE[i] + timedelta(days=x) for x in range((cali_gdf.CONT_DATE[i]-cali_gdf.DISCOVERY_DATE[i]).days + 1)])"
   ]
  },
  {
   "cell_type": "code",
   "execution_count": 10,
   "id": "improving-greece",
   "metadata": {},
   "outputs": [
    {
     "name": "stderr",
     "output_type": "stream",
     "text": [
      "<ipython-input-10-cd9a11384b1d>:7: SettingWithCopyWarning: \n",
      "A value is trying to be set on a copy of a slice from a DataFrame\n",
      "\n",
      "See the caveats in the documentation: https://pandas.pydata.org/pandas-docs/stable/user_guide/indexing.html#returning-a-view-versus-a-copy\n",
      "  series_day[\"day\"] = day\n",
      "C:\\Users\\szklarnia\\anaconda3\\lib\\site-packages\\pandas\\core\\indexing.py:692: SettingWithCopyWarning: \n",
      "A value is trying to be set on a copy of a slice from a DataFrame\n",
      "\n",
      "See the caveats in the documentation: https://pandas.pydata.org/pandas-docs/stable/user_guide/indexing.html#returning-a-view-versus-a-copy\n",
      "  iloc._setitem_with_indexer(indexer, value, self.name)\n"
     ]
    }
   ],
   "source": [
    "# creating data frame with fires burning on each day of year\n",
    "fires_burning_daily = pd.DataFrame()\n",
    "\n",
    "for i in range(len(days_between)):\n",
    "    for day in days_between[i]:\n",
    "        series_day = cali_gdf.iloc[i]\n",
    "        series_day[\"day\"] = day\n",
    "        fires_burning_daily = fires_burning_daily.append(series_day,ignore_index=True)"
   ]
  },
  {
   "cell_type": "code",
   "execution_count": 11,
   "id": "widespread-evolution",
   "metadata": {},
   "outputs": [],
   "source": [
    "# creating geodataframe\n",
    "daily_gdf = gpd.GeoDataFrame(fires_burning_daily)"
   ]
  },
  {
   "cell_type": "code",
   "execution_count": 14,
   "id": "intensive-packing",
   "metadata": {},
   "outputs": [
    {
     "name": "stderr",
     "output_type": "stream",
     "text": [
      "BokehDeprecationWarning: 'legend' keyword is deprecated, use explicit 'legend_label', 'legend_field', or 'legend_group' keywords instead\n"
     ]
    },
    {
     "data": {
      "text/html": [
       "\n",
       "\n",
       "\n",
       "\n",
       "\n",
       "\n",
       "  <div class=\"bk-root\" id=\"2fb9005d-329a-4644-8b50-f20362b0f129\" data-root-id=\"5610\"></div>\n"
      ]
     },
     "metadata": {},
     "output_type": "display_data"
    },
    {
     "data": {
      "application/javascript": [
       "(function(root) {\n",
       "  function embed_document(root) {\n",
       "    \n",
       "  var docs_json = {\"9cdd57f9-ab9f-4e45-a91f-747e96c789b4\":{\"roots\":{\"references\":[{\"attributes\":{\"below\":[{\"id\":\"5621\"}],\"center\":[{\"id\":\"5628\"},{\"id\":\"5636\"},{\"id\":\"5658\"}],\"left\":[{\"id\":\"5629\"}],\"match_aspect\":true,\"renderers\":[{\"id\":\"5649\"},{\"id\":\"5662\"}],\"title\":{\"id\":\"5611\"},\"toolbar\":{\"id\":\"5641\"},\"x_range\":{\"id\":\"5613\"},\"x_scale\":{\"id\":\"5617\"},\"y_range\":{\"id\":\"5615\"},\"y_scale\":{\"id\":\"5619\"}},\"id\":\"5610\",\"subtype\":\"Figure\",\"type\":\"Plot\"},{\"attributes\":{\"source\":{\"id\":\"5608\"}},\"id\":\"5650\",\"type\":\"CDSView\"},{\"attributes\":{\"end\":5311971.846945471,\"start\":3763310.6271446524},\"id\":\"5615\",\"type\":\"Range1d\"},{\"attributes\":{\"axis\":{\"id\":\"5629\"},\"dimension\":1,\"ticker\":null},\"id\":\"5636\",\"type\":\"Grid\"},{\"attributes\":{\"dimension\":\"lat\"},\"id\":\"5630\",\"type\":\"MercatorTicker\"},{\"attributes\":{\"axis\":{\"id\":\"5621\"},\"ticker\":null},\"id\":\"5628\",\"type\":\"Grid\"},{\"attributes\":{\"fill_alpha\":{\"value\":0.5},\"fill_color\":{\"value\":\"red\"},\"line_alpha\":{\"value\":0.5},\"line_color\":{\"value\":\"red\"},\"radius\":{\"field\":\"resized\",\"units\":\"data\"},\"size\":{\"units\":\"screen\",\"value\":1},\"x\":{\"field\":\"x_crds\"},\"y\":{\"field\":\"y_crds\"}},\"id\":\"5647\",\"type\":\"Circle\"},{\"attributes\":{\"text\":\"Wildfir\\u0119s in CA on 2014-01-01 \"},\"id\":\"5611\",\"type\":\"Title\"},{\"attributes\":{\"fill_alpha\":{\"value\":0.1},\"fill_color\":{\"value\":\"red\"},\"line_alpha\":{\"value\":0.1},\"line_color\":{\"value\":\"red\"},\"radius\":{\"field\":\"resized\",\"units\":\"data\"},\"size\":{\"units\":\"screen\",\"value\":1},\"x\":{\"field\":\"x_crds\"},\"y\":{\"field\":\"y_crds\"}},\"id\":\"5648\",\"type\":\"Circle\"},{\"attributes\":{},\"id\":\"5640\",\"type\":\"SaveTool\"},{\"attributes\":{\"items\":[{\"id\":\"5659\"}]},\"id\":\"5658\",\"type\":\"Legend\"},{\"attributes\":{\"callback\":null,\"point_policy\":\"follow_mouse\",\"renderers\":[{\"id\":\"5649\"},{\"id\":\"5649\"}],\"tooltips\":[[\"Size [in acres]:\",\"@FIRE_SIZE\"]]},\"id\":\"5660\",\"type\":\"HoverTool\"},{\"attributes\":{\"level\":\"underlay\",\"tile_source\":{\"id\":\"5609\"}},\"id\":\"5662\",\"type\":\"TileRenderer\"},{\"attributes\":{\"data_source\":{\"id\":\"5608\"},\"glyph\":{\"id\":\"5647\"},\"hover_glyph\":null,\"muted_glyph\":null,\"nonselection_glyph\":{\"id\":\"5648\"},\"selection_glyph\":null,\"view\":{\"id\":\"5650\"}},\"id\":\"5649\",\"type\":\"GlyphRenderer\"},{\"attributes\":{\"label\":{\"value\":\"Wildfires by size\"},\"renderers\":[{\"id\":\"5649\"}]},\"id\":\"5659\",\"type\":\"LegendItem\"},{\"attributes\":{},\"id\":\"5619\",\"type\":\"LinearScale\"},{\"attributes\":{\"attribution\":\"&copy; <a href=\\\"https://www.openstreetmap.org/copyright\\\">OpenStreetMap</a> contributors\",\"url\":\"https://c.tile.openstreetmap.org/{Z}/{X}/{Y}.png\"},\"id\":\"5609\",\"type\":\"WMTSTileSource\"},{\"attributes\":{},\"id\":\"5637\",\"type\":\"WheelZoomTool\"},{\"attributes\":{\"formatter\":{\"id\":\"5624\"},\"ticker\":{\"id\":\"5622\"},\"visible\":false},\"id\":\"5621\",\"type\":\"MercatorAxis\"},{\"attributes\":{\"end\":-12356463.478053367,\"start\":-14248894.821539016},\"id\":\"5613\",\"type\":\"Range1d\"},{\"attributes\":{},\"id\":\"5617\",\"type\":\"LinearScale\"},{\"attributes\":{\"dimension\":\"lon\"},\"id\":\"5624\",\"type\":\"MercatorTickFormatter\"},{\"attributes\":{},\"id\":\"5656\",\"type\":\"UnionRenderers\"},{\"attributes\":{\"data\":{\"CONT_DATE\":{\"__ndarray__\":\"AAAAlU02dEIAAEAv+zV0QgAAQJixNHRCAABAmLE0dEIAAECYsTR0QgAAQJixNHRCAABAmLE0dEIAAECYsTR0QgAAQJixNHRCAABAmLE0dEIAAECYsTR0QgAAQJixNHRCAABAmLE0dEIAAEBF2ql0QgAAQEXaqXRCAABARdqpdEIAAECYsTR0Qg==\",\"dtype\":\"float64\",\"order\":\"little\",\"shape\":[17]},\"DISCOVERY_DATE\":{\"__ndarray__\":\"AABAmLE0dEIAAECYsTR0QgAAQJixNHRCAABAmLE0dEIAAECYsTR0QgAAQJixNHRCAABAmLE0dEIAAECYsTR0QgAAQJixNHRCAABAmLE0dEIAAECYsTR0QgAAQJixNHRCAABAmLE0dEIAAECYsTR0QgAAQJixNHRCAABAmLE0dEIAAECYsTR0Qg==\",\"dtype\":\"float64\",\"order\":\"little\",\"shape\":[17]},\"FIRE_SIZE\":{\"__ndarray__\":\"AAAAAAAA8D8AAAAAAADwPzMzMzMzM9M/zczMzMzM7D8AAAAAAABOQDMzMzMzM9M/AAAAAAAA8D8AAAAAAADwP5qZmZmZmbk/mpmZmZmZuT8AAAAAAAAMQDMzMzMzM9M/zczMzMzM/D+amZmZmZm5P3sUrkfheoQ/exSuR+F6hD8AAAAAAADwPw==\",\"dtype\":\"float64\",\"order\":\"little\",\"shape\":[17]},\"FIRE_SIZE_CLASS\":{\"__ndarray__\":\"AAAAAAAAEEAAAAAAAAAQQAAAAAAAABBAAAAAAAAAEEAAAAAAAAAgQAAAAAAAABBAAAAAAAAAEEAAAAAAAAAQQAAAAAAAAPA/AAAAAAAA8D8AAAAAAAAQQAAAAAAAABBAAAAAAAAAEEAAAAAAAADwPwAAAAAAAPA/AAAAAAAA8D8AAAAAAAAQQA==\",\"dtype\":\"float64\",\"order\":\"little\",\"shape\":[17]},\"FIRE_YEAR\":{\"__ndarray__\":\"AAAAAAB4n0AAAAAAAHifQAAAAAAAeJ9AAAAAAAB4n0AAAAAAAHifQAAAAAAAeJ9AAAAAAAB4n0AAAAAAAHifQAAAAAAAeJ9AAAAAAAB4n0AAAAAAAHifQAAAAAAAeJ9AAAAAAAB4n0AAAAAAAHifQAAAAAAAeJ9AAAAAAAB4n0AAAAAAAHifQA==\",\"dtype\":\"float64\",\"order\":\"little\",\"shape\":[17]},\"LATITUDE\":{\"__ndarray__\":\"XWrGmnjWQEALtaZ5x9lCQLTMIhRbCUFATmIQWDkEREAKhnMNM65DQBSuR+F69EBAZoS3ByH6QEBmhLcHIfpAQMDo8uZwv0BAwqT4+ISKQkAZAKq4cV1DQKT9D7BWM0NAqYb9nliZREBlARO4dbNBQFQ3F3/bDUNAda29T1VVQUCQLcvXZRpEQA==\",\"dtype\":\"float64\",\"order\":\"little\",\"shape\":[17]},\"LONGITUDE\":{\"__ndarray__\":\"tzGPXyxhXcDV52or9p9ewEtZhjjWql3AvHSTGATqXsAQ5+EEpmJewIiDhChfDV3AqDej5qsfXcBaZDvfTx9dwD0MrU7ORV3AvsEXJlOFXsD0/dR46URewEMaFTjZg17Awvf+Bu3uXsCM9+P2y8FdwLqj/+VapF7AXWvvU1XVXcDmkNRCyZNewA==\",\"dtype\":\"float64\",\"order\":\"little\",\"shape\":[17]},\"STATE\":[\"CA\",\"CA\",\"CA\",\"CA\",\"CA\",\"CA\",\"CA\",\"CA\",\"CA\",\"CA\",\"CA\",\"CA\",\"CA\",\"CA\",\"CA\",\"CA\",\"CA\"],\"day\":{\"__ndarray__\":\"AABAmLE0dEIAAECYsTR0QgAAQJixNHRCAABAmLE0dEIAAECYsTR0QgAAQJixNHRCAABAmLE0dEIAAECYsTR0QgAAQJixNHRCAABAmLE0dEIAAECYsTR0QgAAQJixNHRCAABAmLE0dEIAAECYsTR0QgAAQJixNHRCAABAmLE0dEIAAECYsTR0Qg==\",\"dtype\":\"float64\",\"order\":\"little\",\"shape\":[17]},\"index\":[280,5189,6325,26208,34356,34357,34358,34359,43099,47764,63049,63050,63051,70546,76139,129068,141179],\"resized\":{\"__ndarray__\":\"AAAAAABAr0AAAAAAAECvQAAAAAAAQK9AAAAAAABAr0AAAAAAAEC/QAAAAAAAQK9AAAAAAABAr0AAAAAAAECvQAAAAAAAQI9AAAAAAABAj0AAAAAAAECvQAAAAAAAQK9AAAAAAABAr0AAAAAAAECPQAAAAAAAQI9AAAAAAABAj0AAAAAAAECvQA==\",\"dtype\":\"float64\",\"order\":\"little\",\"shape\":[17]},\"x_crds\":{\"__ndarray__\":\"3zDOILzzaMEETpNaewJqwTf0nRpMMmnBF/qfU2BBasF/NbWbaM5pwUL66OePrGjBlXXIqBq8aMH4wcV/zLtowU0kx9993GjB7bgR9dvracGOXAVFJ7VpwblIQfua6mnBqay91otFasGTIM8SzEVpwe+7G5Y2BmrBZ7mnu2NWacE0UpMpJPhpwQ==\",\"dtype\":\"float64\",\"order\":\"little\",\"shape\":[17]},\"y_crds\":{\"__ndarray__\":\"zarr6NNnTkEkU4VG/E5RQV4TnVzuz05BDBQtupSUUkH9t40yoDVSQThtDM8ppU5BHRdib7qwTkEdF2JvurBOQZNwR6HeOE5BYTIoD0L6UEFynOujUN1RQelANleUr1FBM7NgSW47U0FwX2ChxhdQQQVpSbEKh1FBQ97BEklsT0H2eFE6Na1SQQ==\",\"dtype\":\"float64\",\"order\":\"little\",\"shape\":[17]}},\"selected\":{\"id\":\"5657\"},\"selection_policy\":{\"id\":\"5656\"}},\"id\":\"5608\",\"type\":\"ColumnDataSource\"},{\"attributes\":{},\"id\":\"5657\",\"type\":\"Selection\"},{\"attributes\":{\"dimension\":\"lon\"},\"id\":\"5622\",\"type\":\"MercatorTicker\"},{\"attributes\":{},\"id\":\"5639\",\"type\":\"ResetTool\"},{\"attributes\":{},\"id\":\"5638\",\"type\":\"PanTool\"},{\"attributes\":{\"formatter\":{\"id\":\"5632\"},\"ticker\":{\"id\":\"5630\"},\"visible\":false},\"id\":\"5629\",\"type\":\"MercatorAxis\"},{\"attributes\":{\"dimension\":\"lat\"},\"id\":\"5632\",\"type\":\"MercatorTickFormatter\"},{\"attributes\":{\"active_drag\":\"auto\",\"active_inspect\":\"auto\",\"active_multi\":null,\"active_scroll\":\"auto\",\"active_tap\":\"auto\",\"tools\":[{\"id\":\"5637\"},{\"id\":\"5638\"},{\"id\":\"5639\"},{\"id\":\"5640\"},{\"id\":\"5660\"}]},\"id\":\"5641\",\"type\":\"Toolbar\"}],\"root_ids\":[\"5610\"]},\"title\":\"Bokeh Application\",\"version\":\"2.2.3\"}};\n",
       "  var render_items = [{\"docid\":\"9cdd57f9-ab9f-4e45-a91f-747e96c789b4\",\"notebook_comms_target\":\"5678\",\"root_ids\":[\"5610\"],\"roots\":{\"5610\":\"2fb9005d-329a-4644-8b50-f20362b0f129\"}}];\n",
       "  root.Bokeh.embed.embed_items_notebook(docs_json, render_items);\n",
       "\n",
       "  }\n",
       "  if (root.Bokeh !== undefined) {\n",
       "    embed_document(root);\n",
       "  } else {\n",
       "    var attempts = 0;\n",
       "    var timer = setInterval(function(root) {\n",
       "      if (root.Bokeh !== undefined) {\n",
       "        clearInterval(timer);\n",
       "        embed_document(root);\n",
       "      } else {\n",
       "        attempts++;\n",
       "        if (attempts > 100) {\n",
       "          clearInterval(timer);\n",
       "          console.log(\"Bokeh: ERROR: Unable to run BokehJS code because BokehJS library is missing\");\n",
       "        }\n",
       "      }\n",
       "    }, 10, root)\n",
       "  }\n",
       "})(window);"
      ],
      "application/vnd.bokehjs_exec.v0+json": ""
     },
     "metadata": {
      "application/vnd.bokehjs_exec.v0+json": {
       "id": "5610"
      }
     },
     "output_type": "display_data"
    }
   ],
   "source": [
    "# plotting dynamic plot\n",
    "# bokeh source\n",
    "source_cali = ColumnDataSource(daily_gdf[daily_gdf.day == datetime.date(2014,1,1)])\n",
    "\n",
    "# amount of days in a ear\n",
    "days = [datetime.date(2014,1,1) + timedelta(days=x) for x in range((datetime.date(2014,12,31)-datetime.date(2014,1,1)).days + 1)]\n",
    "\n",
    "# plotting bubble map\n",
    "p = plot_bubble_map_for_animation(df=daily_gdf[daily_gdf.day == datetime.date(2014,1,1)],  \n",
    "               source=source_cali,\n",
    "               radius_col=\"resized\",\n",
    "               hover_tuples=[(\"Size [in acres]:\",\"@FIRE_SIZE\")],\n",
    "               x_range=cali_max_x,\n",
    "               y_range=cali_max_y,\n",
    "               title = f\"Wildfiręs in CA on {datetime.date(2014,1,1)} \",\n",
    "               leg_label = \"Wildfires by size\")\n",
    "\n",
    "# creating handle\n",
    "handle = show(p, notebook_handle = True)\n",
    "\n",
    "# updating map daily\n",
    "for day in days:\n",
    "    # df for day \n",
    "    df = daily_gdf[daily_gdf.day == day]\n",
    "    # changing title\n",
    "    p.title.text = f\"Wildfires in california on {day}\"\n",
    "    # Push new data\n",
    "    source_cali.stream(df)\n",
    "    # Purge old data\n",
    "    source_cali.data = df\n",
    "    push_notebook(handle=handle)\n",
    "    time.sleep(.1)"
   ]
  },
  {
   "cell_type": "code",
   "execution_count": null,
   "id": "superior-mozambique",
   "metadata": {},
   "outputs": [],
   "source": []
  }
 ],
 "metadata": {
  "kernelspec": {
   "display_name": "Python 3",
   "language": "python",
   "name": "python3"
  },
  "language_info": {
   "codemirror_mode": {
    "name": "ipython",
    "version": 3
   },
   "file_extension": ".py",
   "mimetype": "text/x-python",
   "name": "python",
   "nbconvert_exporter": "python",
   "pygments_lexer": "ipython3",
   "version": "3.8.3"
  }
 },
 "nbformat": 4,
 "nbformat_minor": 5
}
